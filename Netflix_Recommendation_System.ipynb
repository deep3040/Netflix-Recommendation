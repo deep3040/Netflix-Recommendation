{
  "nbformat": 4,
  "nbformat_minor": 0,
  "metadata": {
    "colab": {
      "provenance": [],
      "authorship_tag": "ABX9TyNoWDk/yfsYcr4KLXJZP91D",
      "include_colab_link": true
    },
    "kernelspec": {
      "name": "python3",
      "display_name": "Python 3"
    },
    "language_info": {
      "name": "python"
    }
  },
  "cells": [
    {
      "cell_type": "markdown",
      "metadata": {
        "id": "view-in-github",
        "colab_type": "text"
      },
      "source": [
        "<a href=\"https://colab.research.google.com/github/deep3040/Netflix-Recommendation/blob/main/Netflix_Recommendation_System.ipynb\" target=\"_parent\"><img src=\"https://colab.research.google.com/assets/colab-badge.svg\" alt=\"Open In Colab\"/></a>"
      ]
    },
    {
      "cell_type": "markdown",
      "source": [
        "# New Section"
      ],
      "metadata": {
        "id": "GSI1HCBSQ7IQ"
      }
    },
    {
      "cell_type": "code",
      "source": [
        "import numpy as np\n",
        "import pandas as pd\n",
        "from sklearn.feature_extraction import text\n",
        "from sklearn.metrics.pairwise import cosine_similarity\n",
        "\n",
        "data = pd.read_csv(\"netflixData.csv\")\n",
        "print(data.head())"
      ],
      "metadata": {
        "id": "csK3yKq-Q-VX",
        "colab": {
          "base_uri": "https://localhost:8080/"
        },
        "outputId": "48db0b3e-061e-48ea-e8e4-ca6e989334c0"
      },
      "execution_count": null,
      "outputs": [
        {
          "output_type": "stream",
          "name": "stdout",
          "text": [
            "                                Show Id                          Title  \\\n",
            "0  cc1b6ed9-cf9e-4057-8303-34577fb54477                       (Un)Well   \n",
            "1  e2ef4e91-fb25-42ab-b485-be8e3b23dedb                         #Alive   \n",
            "2  b01b73b7-81f6-47a7-86d8-acb63080d525  #AnneFrank - Parallel Stories   \n",
            "3  b6611af0-f53c-4a08-9ffa-9716dc57eb9c                       #blackAF   \n",
            "4  7f2d4170-bab8-4d75-adc2-197f7124c070               #cats_the_mewvie   \n",
            "\n",
            "                                         Description  \\\n",
            "0  This docuseries takes a deep dive into the luc...   \n",
            "1  As a grisly virus rampages a city, a lone man ...   \n",
            "2  Through her diary, Anne Frank's story is retol...   \n",
            "3  Kenya Barris and his family navigate relations...   \n",
            "4  This pawesome documentary explores how our fel...   \n",
            "\n",
            "                      Director  \\\n",
            "0                          NaN   \n",
            "1                       Cho Il   \n",
            "2  Sabina Fedeli, Anna Migotto   \n",
            "3                          NaN   \n",
            "4             Michael Margolis   \n",
            "\n",
            "                                           Genres  \\\n",
            "0                                      Reality TV   \n",
            "1  Horror Movies, International Movies, Thrillers   \n",
            "2             Documentaries, International Movies   \n",
            "3                                     TV Comedies   \n",
            "4             Documentaries, International Movies   \n",
            "\n",
            "                                                Cast Production Country  \\\n",
            "0                                                NaN      United States   \n",
            "1                           Yoo Ah-in, Park Shin-hye        South Korea   \n",
            "2                        Helen Mirren, Gengher Gatti              Italy   \n",
            "3  Kenya Barris, Rashida Jones, Iman Benson, Genn...      United States   \n",
            "4                                                NaN             Canada   \n",
            "\n",
            "   Release Date Rating  Duration Imdb Score Content Type         Date Added  \n",
            "0        2020.0  TV-MA  1 Season     6.6/10      TV Show                NaN  \n",
            "1        2020.0  TV-MA    99 min     6.2/10        Movie  September 8, 2020  \n",
            "2        2019.0  TV-14    95 min     6.4/10        Movie       July 1, 2020  \n",
            "3        2020.0  TV-MA  1 Season     6.6/10      TV Show                NaN  \n",
            "4        2020.0  TV-14    90 min     5.1/10        Movie   February 5, 2020  \n"
          ]
        }
      ]
    },
    {
      "cell_type": "code",
      "source": [
        "print(data.isnull().sum())"
      ],
      "metadata": {
        "colab": {
          "base_uri": "https://localhost:8080/"
        },
        "id": "_UbN7e-lRx3t",
        "outputId": "a1764c92-af2a-4933-9624-2decd0274a78"
      },
      "execution_count": null,
      "outputs": [
        {
          "output_type": "stream",
          "name": "stdout",
          "text": [
            "Show Id                  0\n",
            "Title                    0\n",
            "Description              0\n",
            "Director              2064\n",
            "Genres                   0\n",
            "Cast                   530\n",
            "Production Country     559\n",
            "Release Date             3\n",
            "Rating                   4\n",
            "Duration                 3\n",
            "Imdb Score             608\n",
            "Content Type             0\n",
            "Date Added            1335\n",
            "dtype: int64\n"
          ]
        }
      ]
    },
    {
      "cell_type": "code",
      "source": [
        "data = data[[\"Title\", \"Description\", \"Content Type\", \"Genres\"]]\n",
        "print(data.head())"
      ],
      "metadata": {
        "colab": {
          "base_uri": "https://localhost:8080/"
        },
        "id": "R_1a9AOJR3lX",
        "outputId": "f2d2a7c8-b63f-4d0a-abb9-f7e699b6ea60"
      },
      "execution_count": null,
      "outputs": [
        {
          "output_type": "stream",
          "name": "stdout",
          "text": [
            "                           Title  \\\n",
            "0                       (Un)Well   \n",
            "1                         #Alive   \n",
            "2  #AnneFrank - Parallel Stories   \n",
            "3                       #blackAF   \n",
            "4               #cats_the_mewvie   \n",
            "\n",
            "                                         Description Content Type  \\\n",
            "0  This docuseries takes a deep dive into the luc...      TV Show   \n",
            "1  As a grisly virus rampages a city, a lone man ...        Movie   \n",
            "2  Through her diary, Anne Frank's story is retol...        Movie   \n",
            "3  Kenya Barris and his family navigate relations...      TV Show   \n",
            "4  This pawesome documentary explores how our fel...        Movie   \n",
            "\n",
            "                                           Genres  \n",
            "0                                      Reality TV  \n",
            "1  Horror Movies, International Movies, Thrillers  \n",
            "2             Documentaries, International Movies  \n",
            "3                                     TV Comedies  \n",
            "4             Documentaries, International Movies  \n"
          ]
        }
      ]
    },
    {
      "cell_type": "code",
      "source": [
        "data = data.dropna()"
      ],
      "metadata": {
        "id": "OfbjPHXWR7X2"
      },
      "execution_count": null,
      "outputs": []
    },
    {
      "cell_type": "code",
      "source": [
        "import nltk\n",
        "import re\n",
        "nltk.download('stopwords')\n",
        "stemmer = nltk.SnowballStemmer(\"english\")\n",
        "from nltk.corpus import stopwords\n",
        "import string\n",
        "stopword=set(stopwords.words('english'))\n",
        "\n",
        "def clean(text):\n",
        "    text = str(text).lower()\n",
        "    text = re.sub('\\[.*?\\]', '', text)\n",
        "    text = re.sub('https?://\\S+|www\\.\\S+', '', text)\n",
        "    text = re.sub('<.*?>+', '', text)\n",
        "    text = re.sub('[%s]' % re.escape(string.punctuation), '', text)\n",
        "    text = re.sub('\\n', '', text)\n",
        "    text = re.sub('\\w*\\d\\w*', '', text)\n",
        "    text = [word for word in text.split(' ') if word not in stopword]\n",
        "    text=\" \".join(text)\n",
        "    text = [stemmer.stem(word) for word in text.split(' ')]\n",
        "    text=\" \".join(text)\n",
        "    return text\n",
        "data[\"Title\"] = data[\"Title\"].apply(clean)"
      ],
      "metadata": {
        "colab": {
          "base_uri": "https://localhost:8080/"
        },
        "id": "TggoK_jfSCXs",
        "outputId": "40e2e722-7c94-4f11-fd2c-4207676ddd7e"
      },
      "execution_count": null,
      "outputs": [
        {
          "output_type": "stream",
          "name": "stderr",
          "text": [
            "[nltk_data] Downloading package stopwords to /root/nltk_data...\n",
            "[nltk_data]   Unzipping corpora/stopwords.zip.\n"
          ]
        }
      ]
    },
    {
      "cell_type": "code",
      "source": [
        "print(data.Title.sample(10))"
      ],
      "metadata": {
        "colab": {
          "base_uri": "https://localhost:8080/"
        },
        "id": "Ds_r7m4tSstD",
        "outputId": "1daa8635-86ae-467a-f1f0-644a4650173f"
      },
      "execution_count": null,
      "outputs": [
        {
          "output_type": "stream",
          "name": "stdout",
          "text": [
            "3982                         rock kasbah\n",
            "832                  buddi thunderstruck\n",
            "4487        super monster save halloween\n",
            "3507                               block\n",
            "643     bhai vyakti ki valli  poorvardha\n",
            "4833                         fourth kind\n",
            "1214                          dawn crood\n",
            "3538                            one piec\n",
            "349                    unremark christma\n",
            "4748                       da vinci code\n",
            "Name: Title, dtype: object\n"
          ]
        }
      ]
    },
    {
      "cell_type": "code",
      "source": [
        "feature = data[\"Genres\"].tolist()\n",
        "tfidf = text.TfidfVectorizer(input=feature, stop_words=\"english\")\n",
        "tfidf_matrix = tfidf.fit_transform(feature)\n",
        "similarity = cosine_similarity(tfidf_matrix)"
      ],
      "metadata": {
        "id": "CAzZWAoxSxpz"
      },
      "execution_count": null,
      "outputs": []
    },
    {
      "cell_type": "code",
      "source": [
        "indices = pd.Series(data.index, \n",
        "                    index=data['Title']).drop_duplicates()"
      ],
      "metadata": {
        "id": "CE4ksqLnS1A4"
      },
      "execution_count": null,
      "outputs": []
    },
    {
      "cell_type": "code",
      "source": [
        "def netFlix_recommendation(title, similarity = similarity):\n",
        "    index = indices[title]\n",
        "    similarity_scores = list(enumerate(similarity[index]))\n",
        "    similarity_scores = sorted(similarity_scores, key=lambda x: x[1], reverse=True)\n",
        "    similarity_scores = similarity_scores[0:10]\n",
        "    movieindices = [i[0] for i in similarity_scores]\n",
        "    return data['Title'].iloc[movieindices]\n",
        "\n",
        "print(netFlix_recommendation(\"girlfriend\"))"
      ],
      "metadata": {
        "id": "Z0DacwZSS4bh",
        "outputId": "168523c4-b116-4fcb-b7f8-ff651194a25a",
        "colab": {
          "base_uri": "https://localhost:8080/"
        }
      },
      "execution_count": null,
      "outputs": [
        {
          "output_type": "stream",
          "name": "stdout",
          "text": [
            "3                          blackaf\n",
            "285                     washington\n",
            "417                 arrest develop\n",
            "434     astronomi club sketch show\n",
            "451    aunti donna big ol hous fun\n",
            "656                      big mouth\n",
            "752                bojack horseman\n",
            "805                   brew brother\n",
            "935                       champion\n",
            "937                  chappell show\n",
            "Name: Title, dtype: object\n"
          ]
        }
      ]
    },
    {
      "cell_type": "markdown",
      "source": [
        "# New Section"
      ],
      "metadata": {
        "id": "341eYyw4Q7sA"
      }
    }
  ]
}